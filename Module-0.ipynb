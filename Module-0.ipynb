{
 "cells": [
  {
   "cell_type": "code",
   "execution_count": 1,
   "metadata": {},
   "outputs": [
    {
     "name": "stdout",
     "output_type": "stream",
     "text": [
      "Ваш алгоритм угадывает число в среднем за 8 попыток\n"
     ]
    },
    {
     "data": {
      "text/plain": [
       "8"
      ]
     },
     "execution_count": 1,
     "metadata": {},
     "output_type": "execute_result"
    }
   ],
   "source": [
    "import numpy as np\n",
    "def game_core_v2(number):\n",
    "    \"\"\"Функция фильтрует число по свойствам и перебирает числа из предполагаемых списков\"\"\"\n",
    "\n",
    "    simple_list=[2, 3, 5, 7, 11, 13, 17, 19, 23, 29, 31, \n",
    "                37, 41, 43, 47, 53, 59, 61, 67, 71, 73, 79, 83, 89, 97]\n",
    "    if number%2==0: #Проверка на четность\n",
    "        if len(str( number))==2:\n",
    "            if (number**0.5)%1==0:\n",
    "                result=[x for x in range(1,101) if x%2==0 and \n",
    "                        len(str(x))==2 and  (x**0.5)%1==0] # создается список с предполагаемыми свойствами\n",
    "            else:\n",
    "                if '0' in str(number):#четные числа которые содержат нули\n",
    "                    result=[x for x in range(1,101) if x%2==0 and \n",
    "                        len(str(x))==2 and  '0' in str(x)]\n",
    "                else:\n",
    "                    if '2' in str(number):#четные числа которые содержат двойку\n",
    "                        result=[x for x in range(1,101) if x%2==0 and \n",
    "                        len(str(x))==2 and  '2' in str(x)]\n",
    "                    else:\n",
    "                        if '4' in str(number):#четные числа которые содержат четверку\n",
    "                            result=[x for x in range(1,101) if x%2==0 and \n",
    "                        len(str(x))==2 and  '4' in str(x)]\n",
    "                        else:\n",
    "                            if '6' in str(number):#четные числа которые содержат шестерку\n",
    "                                result=[x for x in range(1,101) if x%2==0 and \n",
    "                        len(str(x))==2 and  '6' in str(x)]\n",
    "                            else:\n",
    "                                result=[x for x in range(1,101) if x%2==0 and \n",
    "                        len(str(x))==2 and  '8' in str(x)]#четные числа которые содержат восьмерку\n",
    "        elif len(str(number))==3:#если трех-з это 100\n",
    "            result=[100]\n",
    "        else:\n",
    "            result=[x for x in range(1,101) if x%2==0 and \n",
    "                        len(str(x))==1] #создаем список четных одназначных цифр\n",
    "    else:\n",
    "        if len(str(number))==2:#используем ту же логику для нечетных\n",
    "            if (number**0.5)%1==0:#проверка на квадрат числа\n",
    "                result=[x for x in range(1,101) if x%2!=0 and \n",
    "                        len(str(x))==2 and  (x**0.5)%1==0]\n",
    "            else:\n",
    "                if number in simple_list:\n",
    "                    result=[x for x in range(1,101) \n",
    "                            if x in simple_list and len(str(x))==2]#проверяем на простоту\n",
    "                else:\n",
    "                    result=[x for x in range(1,101)  if x%2!=0 and \n",
    "                            x not in simple_list and len(str(x))==2 \n",
    "                            and  (x**0.5)%1!=0 ]#остальные нечетные числа\n",
    "        else:\n",
    "            result=[x for x in range(1,101) if x%2!=0 and \n",
    "                        len(str(x))==1 ]\n",
    "    count = 0 # так как мы еще не угадывали\n",
    "    predict_list = result # отсортированные списки, можно обойтись без sorted\n",
    "    for predict in predict_list:\n",
    "        index=predict_list.index(predict)#Будет производиться перебор по индексам\n",
    "        count+=1\n",
    "        if number > predict:\n",
    "            index+=1\n",
    "        elif number < predict:\n",
    "            index-=1   \n",
    "        else: \n",
    "            break\n",
    "    return(count) # выход из цикла, если угадали        \n",
    "        \n",
    "def score_game(game_core):\n",
    "    '''Запускаем игру 1000 раз, чтобы узнать, как быстро игра угадывает число'''\n",
    "    count_ls = []\n",
    "    np.random.seed(1)  # фиксируем RANDOM SEED, чтобы ваш эксперимент был воспроизводим!\n",
    "    random_array = np.random.randint(1,101, size=(1000))\n",
    "    for number in random_array:\n",
    "        count_ls.append(game_core(number))\n",
    "    score = int(np.mean(count_ls))\n",
    "    print(f\"Ваш алгоритм угадывает число в среднем за {score} попыток\")\n",
    "    return(score)\n",
    "\n",
    "score_game(game_core_v2)"
   ]
  },
  {
   "cell_type": "code",
   "execution_count": null,
   "metadata": {},
   "outputs": [],
   "source": []
  }
 ],
 "metadata": {
  "kernelspec": {
   "display_name": "Python 3",
   "language": "python",
   "name": "python3"
  },
  "language_info": {
   "codemirror_mode": {
    "name": "ipython",
    "version": 3
   },
   "file_extension": ".py",
   "mimetype": "text/x-python",
   "name": "python",
   "nbconvert_exporter": "python",
   "pygments_lexer": "ipython3",
   "version": "3.7.6"
  }
 },
 "nbformat": 4,
 "nbformat_minor": 4
}
